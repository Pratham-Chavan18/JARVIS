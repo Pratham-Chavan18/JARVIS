{
 "cells": [
  {
   "cell_type": "code",
   "execution_count": 1,
   "id": "53753ade-081f-471a-b94a-3709f585e07e",
   "metadata": {},
   "outputs": [],
   "source": [
    "import os\n",
    "import time\n",
    "import subprocess\n",
    "import json"
   ]
  },
  {
   "cell_type": "code",
   "execution_count": 3,
   "id": "ee8c3d9a-130a-4d1f-808f-3727ca70f018",
   "metadata": {},
   "outputs": [],
   "source": [
    "import wolframalpha\n",
    "import requests\n",
    "import webbrowser\n",
    "import wikipedia\n",
    "import datetime"
   ]
  },
  {
   "cell_type": "code",
   "execution_count": 4,
   "id": "6040173a-19e1-4e26-beb2-e33bde9db734",
   "metadata": {},
   "outputs": [],
   "source": [
    "import speech_recognition as sr\n",
    "import pyttsx3"
   ]
  },
  {
   "cell_type": "code",
   "execution_count": 7,
   "id": "9fbabf70-c718-4f11-b3c6-16ab12ae8875",
   "metadata": {},
   "outputs": [
    {
     "name": "stdout",
     "output_type": "stream",
     "text": [
      "LOADING YOUR PERSONAL A.I ASSISTANT JARVIS\n"
     ]
    }
   ],
   "source": [
    "print('LOADING YOUR PERSONAL A.I ASSISTANT JARVIS')"
   ]
  },
  {
   "cell_type": "code",
   "execution_count": 9,
   "id": "cc508ed1-6b8a-400b-9d91-fa1d9284dd10",
   "metadata": {},
   "outputs": [],
   "source": [
    "engine = pyttsx3.init('sapi5')\n",
    "voices = engine.getProperty('voices')\n",
    "engine.setProperty(\"voice\",voices[0].id)"
   ]
  },
  {
   "cell_type": "code",
   "execution_count": 11,
   "id": "be540093-0d9e-4c75-8d73-4d69df050ed3",
   "metadata": {},
   "outputs": [],
   "source": [
    "def speak(text):\n",
    "    engine.say(text)\n",
    "    engine.runAndWait()\n",
    "    engine.stop()"
   ]
  },
  {
   "cell_type": "code",
   "execution_count": 13,
   "id": "1450b250-412b-43bf-b7ad-a774641ba30f",
   "metadata": {},
   "outputs": [],
   "source": [
    "def wishMe():\n",
    "    hour = datetime.datetime.now().hour\n",
    "    if hour >= 0 and hour < 12:\n",
    "        speak(\"hello, Good morning Mr.Pratham\")\n",
    "        print(\"hello, Good morning Mr.Pratham\")\n",
    "    elif hour >= 12 and hour <=18:\n",
    "        speak(\"hello, Good Afternoon Mr.Pratham\")\n",
    "        print(\"hello, Good Afternoon Mr.Pratham\")\n",
    "    else:\n",
    "        speak(\"Its already the night time better go to sleep\")\n",
    "        print(\"Its already the night time better go to sleep\")"
   ]
  },
  {
   "cell_type": "code",
   "execution_count": 21,
   "id": "73adc933-a5c2-4919-8a53-19bec5952366",
   "metadata": {},
   "outputs": [
    {
     "name": "stdout",
     "output_type": "stream",
     "text": [
      "hello, Good Afternoon Mr.Pratham\n",
      "Listening...\n",
      "Listening...\n",
      "Listening...\n",
      "Listening...\n",
      "Listening...\n",
      "Listening...\n",
      "Listening...\n"
     ]
    },
    {
     "ename": "KeyboardInterrupt",
     "evalue": "",
     "output_type": "error",
     "traceback": [
      "\u001b[1;31m---------------------------------------------------------------------------\u001b[0m",
      "\u001b[1;31mKeyboardInterrupt\u001b[0m                         Traceback (most recent call last)",
      "Cell \u001b[1;32mIn[21], line 7\u001b[0m\n\u001b[0;32m      5\u001b[0m \u001b[38;5;28;01mwhile\u001b[39;00m \u001b[38;5;28;01mTrue\u001b[39;00m:\n\u001b[0;32m      6\u001b[0m     speak(\u001b[38;5;124m\"\u001b[39m\u001b[38;5;124mHow can I help you?\u001b[39m\u001b[38;5;124m\"\u001b[39m)\n\u001b[1;32m----> 7\u001b[0m     statement \u001b[38;5;241m=\u001b[39m takeCommand()\u001b[38;5;241m.\u001b[39mlower()\n\u001b[0;32m      8\u001b[0m     \u001b[38;5;28;01mif\u001b[39;00m statement \u001b[38;5;241m==\u001b[39m \u001b[38;5;241m0\u001b[39m:\n\u001b[0;32m      9\u001b[0m         \u001b[38;5;28;01mcontinue\u001b[39;00m\n",
      "Cell \u001b[1;32mIn[15], line 6\u001b[0m, in \u001b[0;36mtakeCommand\u001b[1;34m()\u001b[0m\n\u001b[0;32m      4\u001b[0m \u001b[38;5;28mprint\u001b[39m(\u001b[38;5;124m\"\u001b[39m\u001b[38;5;124mListening...\u001b[39m\u001b[38;5;124m\"\u001b[39m)\n\u001b[0;32m      5\u001b[0m r\u001b[38;5;241m.\u001b[39mpause_threshold \u001b[38;5;241m=\u001b[39m \u001b[38;5;241m1\u001b[39m\n\u001b[1;32m----> 6\u001b[0m audio \u001b[38;5;241m=\u001b[39m r\u001b[38;5;241m.\u001b[39mlisten(source)\n\u001b[0;32m      8\u001b[0m \u001b[38;5;28;01mtry\u001b[39;00m:\n\u001b[0;32m      9\u001b[0m     statement \u001b[38;5;241m=\u001b[39m r\u001b[38;5;241m.\u001b[39mrecognize_google(audio, language\u001b[38;5;241m=\u001b[39m\u001b[38;5;124m'\u001b[39m\u001b[38;5;124men-in\u001b[39m\u001b[38;5;124m'\u001b[39m)\n",
      "File \u001b[1;32m~\\anaconda3\\Lib\\site-packages\\speech_recognition\\__init__.py:523\u001b[0m, in \u001b[0;36mRecognizer.listen\u001b[1;34m(self, source, timeout, phrase_time_limit, snowboy_configuration)\u001b[0m\n\u001b[0;32m    520\u001b[0m \u001b[38;5;28;01mif\u001b[39;00m phrase_time_limit \u001b[38;5;129;01mand\u001b[39;00m elapsed_time \u001b[38;5;241m-\u001b[39m phrase_start_time \u001b[38;5;241m>\u001b[39m phrase_time_limit:\n\u001b[0;32m    521\u001b[0m     \u001b[38;5;28;01mbreak\u001b[39;00m\n\u001b[1;32m--> 523\u001b[0m buffer \u001b[38;5;241m=\u001b[39m source\u001b[38;5;241m.\u001b[39mstream\u001b[38;5;241m.\u001b[39mread(source\u001b[38;5;241m.\u001b[39mCHUNK)\n\u001b[0;32m    524\u001b[0m \u001b[38;5;28;01mif\u001b[39;00m \u001b[38;5;28mlen\u001b[39m(buffer) \u001b[38;5;241m==\u001b[39m \u001b[38;5;241m0\u001b[39m: \u001b[38;5;28;01mbreak\u001b[39;00m  \u001b[38;5;66;03m# reached end of the stream\u001b[39;00m\n\u001b[0;32m    525\u001b[0m frames\u001b[38;5;241m.\u001b[39mappend(buffer)\n",
      "File \u001b[1;32m~\\anaconda3\\Lib\\site-packages\\speech_recognition\\__init__.py:199\u001b[0m, in \u001b[0;36mMicrophone.MicrophoneStream.read\u001b[1;34m(self, size)\u001b[0m\n\u001b[0;32m    198\u001b[0m \u001b[38;5;28;01mdef\u001b[39;00m \u001b[38;5;21mread\u001b[39m(\u001b[38;5;28mself\u001b[39m, size):\n\u001b[1;32m--> 199\u001b[0m     \u001b[38;5;28;01mreturn\u001b[39;00m \u001b[38;5;28mself\u001b[39m\u001b[38;5;241m.\u001b[39mpyaudio_stream\u001b[38;5;241m.\u001b[39mread(size, exception_on_overflow\u001b[38;5;241m=\u001b[39m\u001b[38;5;28;01mFalse\u001b[39;00m)\n",
      "File \u001b[1;32m~\\anaconda3\\Lib\\site-packages\\pyaudio\\__init__.py:570\u001b[0m, in \u001b[0;36mPyAudio.Stream.read\u001b[1;34m(self, num_frames, exception_on_overflow)\u001b[0m\n\u001b[0;32m    567\u001b[0m \u001b[38;5;28;01mif\u001b[39;00m \u001b[38;5;129;01mnot\u001b[39;00m \u001b[38;5;28mself\u001b[39m\u001b[38;5;241m.\u001b[39m_is_input:\n\u001b[0;32m    568\u001b[0m     \u001b[38;5;28;01mraise\u001b[39;00m \u001b[38;5;167;01mIOError\u001b[39;00m(\u001b[38;5;124m\"\u001b[39m\u001b[38;5;124mNot input stream\u001b[39m\u001b[38;5;124m\"\u001b[39m,\n\u001b[0;32m    569\u001b[0m                   paCanNotReadFromAnOutputOnlyStream)\n\u001b[1;32m--> 570\u001b[0m \u001b[38;5;28;01mreturn\u001b[39;00m pa\u001b[38;5;241m.\u001b[39mread_stream(\u001b[38;5;28mself\u001b[39m\u001b[38;5;241m.\u001b[39m_stream, num_frames,\n\u001b[0;32m    571\u001b[0m                       exception_on_overflow)\n",
      "\u001b[1;31mKeyboardInterrupt\u001b[0m: "
     ]
    }
   ],
   "source": [
    "speak(\"LOADING YOUR PERSONAL A.I ASSISTANT JARVIS\")\n",
    "wishMe()\n",
    "\n",
    "if __name__ == '__main__':\n",
    "    while True:\n",
    "        speak(\"How can I help you?\")\n",
    "        statement = takeCommand().lower()\n",
    "        if statement == 0:\n",
    "            continue\n",
    "        if \"good bye\" in statement or \"ok bye\" in statement or \"stop\" in statement:\n",
    "            speak(\"Your Personal AI Assistant JARVIS is Shutting Down, Good bye\")\n",
    "            print(\"Your Personal AI Assistant JARVIS is Shutting Down, Good bye\")\n",
    "            break\n",
    "\n",
    "        if 'wikipedia' in statement:\n",
    "            speak(\"searching wikipedia....\")\n",
    "            statement = statement.replace(\"wikipedia\",\" \")\n",
    "            results = wikipedia.summary(statement, sentences = 3)\n",
    "            speak(\"According to Wikipedia..\")\n",
    "            print(results)\n",
    "            speak(results)\n",
    "\n",
    "        elif\"open youtube\" in statement:\n",
    "            webbrowser.open_new_tab(\"https://www.youtube.com\")\n",
    "            speak(\"Youtube is open for you\")\n",
    "            time.sleep(5)\n",
    "\n",
    "        elif \"open google\" in statement:\n",
    "            webbrowser.open_new_tab(\"https://www.google.com\")\n",
    "            speak(\"Google search is open for you\")\n",
    "\n",
    "        elif \"open gmail\" in statement:\n",
    "            webbrowser.open_new_tab(\"https://www.gmail.com\")\n",
    "            speak(\"Google search is open for you\")\n",
    "            time.sleep(5)\n",
    "\n",
    "        elif \"weather\" in statement:\n",
    "            api_key = \"8ef61edcf1c576d65d836254e11ea420\"\n",
    "            base_url = 'https://api.openweathermap.org/data/2.5/weather?'\n",
    "            speak(\"whats the city name\")\n",
    "            city_name = takeCommand()\n",
    "            complete_url = base_url +\"appid = \"+api_key+\"&q=\"+city_name\n",
    "            response =  requests.get(complete_url)\n",
    "            z = response.json()\n",
    "            if x[\"cod\"]!= \"404\":\n",
    "                y = x[\"main\"]\n",
    "                current_temperature = y[\"temp\"]\n",
    "                current_humidity = y[\"humidity\"]\n",
    "                z = x[\"weather\"]\n",
    "                weather_description = z[0][\"description\"]\n",
    "                speak(\"the temperature in kelvin units is \" + str(current_temperature) + \"\\nhumidity in percentage is\" +\n",
    "                      str(current_humidity)+\"\\n weather descripton\" + str(weather_description))\n",
    "                print(\"the temperature in kelvin units is \" + str(current_temperature) + \"\\nhumidity in percentage is\" +\n",
    "                      str(current_humidity)+\"\\n weather descripton\" + str(weather_description))\n",
    "            else:\n",
    "                speak(\"city not found\")\n",
    "                print(\"city not found\")\n",
    "        \n",
    "        elif \"time\" in statement:\n",
    "            strTime = datetime.datetime.now().strftime(\"%H:%M:%S\") \n",
    "            speak(f\"the time is {strTime}\")  \n",
    "                                                       \n",
    "        elif \"who are you\" in statement or \"what can you do\" in statement:\n",
    "            speak(\"I am JARVIS, version 1.0, your personal assistant.\"\n",
    "                  \"I can perform tasks like opening YouTube, Gmail, Google Chrome, and Stack Overflow.\"\n",
    "                  \"I can also predict the current time, take a photo, search Wikipedia, provide weather updates, get headlines from Times of India, and answer computational and geographical questions.\")\n",
    "            \n",
    "        elif \"who made you\" in statement or \"who created you\" in statement or \"who discovered you\" in statement:\n",
    "            speak(\"I WAS BUILT BY Ai robosoft\")\n",
    "            print(\"I WAS BUILT BY Ai robosoft\")\n",
    "\n",
    "        elif \"open stackoverflow\" in statement:\n",
    "            webbrowser.open_new_tab(\"https://stackoverflow.com/login\")\n",
    "            time.sleep(5)\n",
    "\n",
    "        elif \"news\" in statement:\n",
    "            news = webbrowser.open_new_tab(\"https://timesofindia.indiatimes.com/home/headlines\")\n",
    "            speak(\"here are some headlines for you from times of India happy reading \")\n",
    "            time.sleep(7)\n",
    "\n",
    "        elif \"search\" in statement:\n",
    "            statement = statement.replace(\"search\",\"\")\n",
    "            webbrowser.open_new_tab(\"statement\")\n",
    "            time.sleep(5)\n",
    "\n",
    "        elif \"ask\" in statement:\n",
    "            speak(\" I can answer to computational and geographical questions too just try me!! what do you want to ask\")\n",
    "            question = takeCommand()\n",
    "            app_id = \"R2K75H-7ELALHR35X\"\n",
    "            client = wolframalpha.Client('R2K75H-HR35X')\n",
    "            res = client.query(question)\n",
    "            answer = next(res.results).text\n",
    "            speak(answer)\n",
    "            print(answer)\n",
    "               \n",
    "        elif \"log off\" in statement or \"sign out\" in statement or \"shut down\" in statement:\n",
    "                speak(\" ok, Your PC will shut down in 10 seconds make sure you have saved and exit from all applications\")\n",
    "                subprocess.call(['shutdown',\"/l\"])\n",
    "time.sleep(3)"
   ]
  },
  {
   "cell_type": "code",
   "execution_count": null,
   "id": "b3bef56a-d2ce-48b6-be52-307018a5dfdf",
   "metadata": {},
   "outputs": [],
   "source": []
  },
  {
   "cell_type": "code",
   "execution_count": null,
   "id": "4b79efde-1181-4c27-a8bb-06462398a934",
   "metadata": {},
   "outputs": [],
   "source": []
  }
 ],
 "metadata": {
  "kernelspec": {
   "display_name": "Python 3 (ipykernel)",
   "language": "python",
   "name": "python3"
  },
  "language_info": {
   "codemirror_mode": {
    "name": "ipython",
    "version": 3
   },
   "file_extension": ".py",
   "mimetype": "text/x-python",
   "name": "python",
   "nbconvert_exporter": "python",
   "pygments_lexer": "ipython3",
   "version": "3.12.3"
  }
 },
 "nbformat": 4,
 "nbformat_minor": 5
}
